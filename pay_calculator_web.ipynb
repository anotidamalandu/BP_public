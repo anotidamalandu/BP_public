{
  "nbformat": 4,
  "nbformat_minor": 0,
  "metadata": {
    "colab": {
      "name": "pay_calculator_web.ipynb",
      "provenance": [],
      "include_colab_link": true
    },
    "kernelspec": {
      "name": "python3",
      "display_name": "Python 3"
    },
    "language_info": {
      "name": "python"
    }
  },
  "cells": [
    {
      "cell_type": "markdown",
      "metadata": {
        "id": "view-in-github",
        "colab_type": "text"
      },
      "source": [
        "<a href=\"https://colab.research.google.com/github/anotidamalandu/BP_public/blob/main/pay_calculator_web.ipynb\" target=\"_parent\"><img src=\"https://colab.research.google.com/assets/colab-badge.svg\" alt=\"Open In Colab\"/></a>"
      ]
    },
    {
      "cell_type": "markdown",
      "source": [
        "# Pay Calculator\n",
        "\n",
        "The 'WEB' is an alternative interface.  All you need is a browser to access the webpage.  Python has a few WEB frameworks, but we will use cherrypy in this example. It is lightweight microframe work and relatively easy to use compared to other frameworks.  \n",
        "\n",
        "This example is a proof of concept and does not do any input validation etc.   Once the server has started, click on the **first URL/Link** below and new page will open show the Web version of Pay Calculator."
      ],
      "metadata": {
        "id": "U19jneZPPOk6"
      }
    },
    {
      "cell_type": "code",
      "source": [
        "#@title\n",
        "def calculate_ato_tax(income):\n",
        "  '''\n",
        "  Calculate the tax payable on yearly income based on the Australian Tax \n",
        "  Office Resident tax rates 2021–22 Taxable Income\n",
        "  '''\n",
        "  tax_payable = 0 # if income <= 18200:\n",
        "  if 18201 <= income <= 45000:\n",
        "    tax_payable = 0.19 * (income - 18200)\n",
        "  elif 45001 <= income <= 120000:\n",
        "    tax_payable = 5092 + 0.32 * (income - 45000)\n",
        "  elif 120001 <= income <= 180000:\n",
        "    tax_payable = 29467 + 0.37 * (income - 120000)\n",
        "  elif income >= 180001:\n",
        "    tax_payable = 51667 + 0.45 * (income - 180000)\n",
        "  return tax_payable\n",
        "\n",
        "def print_payslip(name, date, salary, sales):\n",
        "  commission = sales * 0.02\n",
        "  earnings = salary + commission\n",
        "  income = earnings * 52\n",
        "  tax = calculate_ato_tax(income) / 52\n",
        "  pay = earnings - tax\n",
        "\n",
        "  return f'''Payslip of {name} for week {date} <br> \n",
        "  Weekly Salary: ${salary:.2f} Commission: ${commission:.2f} Tax: ${tax:.2f} <br> \n",
        "  Take Home Pay ${pay:.2f}'''\n",
        "\n",
        "\n",
        "# Setup the web interface\n",
        "from google.colab import output\n",
        "print(\"CLICK THIS LINK --> \", output.eval_js(\"google.colab.kernel.proxyPort(8099)\"),'\\n\\n')\n",
        "\n",
        "# Install web framework\n",
        "!pip install cherrypy > /dev/null 2>&1\n",
        "import cherrypy \n",
        "\n",
        "# Create web page\n",
        "class application:\n",
        "    @cherrypy.expose\n",
        "    def index(self, name=None, date=None, salary=None,sales=None):\n",
        "        text = ''\n",
        "        if name:\n",
        "          text = print_payslip(name, date, float(salary), float(sales))\n",
        "        return f\"\"\"<html>\n",
        "          <head></head>\n",
        "          <body>\n",
        "            <main>\n",
        "                <h1>Pay Calculator</h1>\n",
        "                <p>Please enter the following details:<br>\n",
        "            \n",
        "                <form method=\"get\" action=\"index\">\n",
        "                  <label for=\"name\">Name:</label>\n",
        "                  <input type=\"text\" name=\"name\" placeholder=\"Your Name\"/><br>\n",
        "                  <label for=\"date\">Date:</label>\n",
        "                  <input type=\"text\" name=\"date\" placeholder=\"dd/mm/yyyy\"/><br>\n",
        "                  <label for=\"salary\">Salary:</label>\n",
        "                  <input type=\"text\" name=\"salary\" placeholder=\"4000\"/><br>\n",
        "                  <label for=\"sales\">Sales:</label>\n",
        "                  <input type=\"text\" name=\"sales\" placeholder=\"1000\"/><br>\n",
        "                  <button type=\"submit\">Submit</button>\n",
        "                </form>\n",
        "            \n",
        "                <p>{text}</p>\n",
        "            </main>\n",
        "\n",
        "            <style>\n",
        "              main {{\n",
        "                max-width: 300px;\n",
        "                margin: auto;\n",
        "              }}\n",
        "\n",
        "              label {{\n",
        "                display: inline-block;\n",
        "                text-align: right;\n",
        "                width: 50px;\n",
        "              }}\n",
        "\n",
        "              input[type=\"text\"]{{\n",
        "                  display: inline-block;\n",
        "                  margin-bottom: 5px;\n",
        "                  margin-left: 5px\n",
        "              }}\n",
        "            </style>\n",
        "\n",
        "           </body>\n",
        "        </html>\"\"\"\n",
        "\n",
        "# start web server\n",
        "cherrypy.config.update( {'server.socket_host':\"0.0.0.0\", 'server.socket_port':8099 } )\n",
        "cherrypy.quickstart( application() )"
      ],
      "metadata": {
        "id": "YIhzBjnyrhvU",
        "outputId": "5c3b7c43-fab6-4e4c-f730-8c714506f642",
        "colab": {
          "base_uri": "https://localhost:8080/"
        }
      },
      "execution_count": null,
      "outputs": [
        {
          "metadata": {
            "tags": null
          },
          "name": "stdout",
          "output_type": "stream",
          "text": [
            "CLICK THIS LINK -->  https://biyxktwvrpk-496ff2e9c6d22116-8099-colab.googleusercontent.com/ \n",
            "\n",
            "\n"
          ]
        },
        {
          "metadata": {
            "tags": null
          },
          "name": "stderr",
          "output_type": "stream",
          "text": [
            "[19/May/2022:10:02:42] ENGINE Listening for SIGTERM.\n",
            "[19/May/2022:10:02:42] ENGINE Listening for SIGHUP.\n",
            "[19/May/2022:10:02:42] ENGINE Listening for SIGUSR1.\n",
            "[19/May/2022:10:02:42] ENGINE Bus STARTING\n",
            "CherryPy Checker:\n",
            "The Application mounted at '' has an empty config.\n",
            "\n",
            "[19/May/2022:10:02:42] ENGINE Started monitor thread 'Autoreloader'.\n",
            "[19/May/2022:10:02:42] ENGINE Serving on http://0.0.0.0:8099\n",
            "[19/May/2022:10:02:42] ENGINE Bus STARTED\n"
          ]
        },
        {
          "metadata": {
            "tags": null
          },
          "name": "stdout",
          "output_type": "stream",
          "text": [
            "127.0.0.1 - - [19/May/2022:10:03:42] \"GET / HTTP/1.1\" 200 1368 \"https://colab.research.google.com/\" \"Mozilla/5.0 (Windows NT 10.0; Win64; x64) AppleWebKit/537.36 (KHTML, like Gecko) Chrome/101.0.4951.64 Safari/537.36,gzip(gfe)\"\n",
            "127.0.0.1 - - [19/May/2022:10:03:43] \"GET /favicon.ico HTTP/1.1\" 200 1406 \"https://colab.research.google.com/\" \"Mozilla/5.0 (Windows NT 10.0; Win64; x64) AppleWebKit/537.36 (KHTML, like Gecko) Chrome/101.0.4951.64 Safari/537.36,gzip(gfe)\"\n",
            "127.0.0.1 - - [19/May/2022:10:03:52] \"GET /index?date=&name=&salary=&sales= HTTP/1.1\" 200 1368 \"https://colab.research.google.com/\" \"Mozilla/5.0 (Windows NT 10.0; Win64; x64) AppleWebKit/537.36 (KHTML, like Gecko) Chrome/101.0.4951.64 Safari/537.36,gzip(gfe)\"\n",
            "127.0.0.1 - - [19/May/2022:10:04:25] \"GET /index?date=28%2F09%2F2022&name=Marvin+&salary=4000&sales=1000 HTTP/1.1\" 200 1502 \"https://colab.research.google.com/\" \"Mozilla/5.0 (Windows NT 10.0; Win64; x64) AppleWebKit/537.36 (KHTML, like Gecko) Chrome/101.0.4951.64 Safari/537.36,gzip(gfe)\"\n"
          ]
        }
      ]
    }
  ]
}