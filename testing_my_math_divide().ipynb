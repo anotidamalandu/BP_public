{
  "nbformat": 4,
  "nbformat_minor": 0,
  "metadata": {
    "colab": {
      "name": "testing_my_math.divide().ipynb",
      "provenance": [],
      "include_colab_link": true
    },
    "kernelspec": {
      "name": "python3",
      "display_name": "Python 3"
    },
    "language_info": {
      "name": "python"
    }
  },
  "cells": [
    {
      "cell_type": "markdown",
      "metadata": {
        "id": "view-in-github",
        "colab_type": "text"
      },
      "source": [
        "<a href=\"https://colab.research.google.com/github/anotidamalandu/BP_public/blob/main/testing_my_math_divide().ipynb\" target=\"_parent\"><img src=\"https://colab.research.google.com/assets/colab-badge.svg\" alt=\"Open In Colab\"/></a>"
      ]
    },
    {
      "cell_type": "markdown",
      "source": [
        "## Testing  my_math.divide()\n",
        "\n",
        "What is your preferred testing strategy? Do you like using the assert statement or prefer doctest?  \n",
        "\n",
        "Using your preferred testing strategy, develop a test table and test the following funciton.  Where required update the function so all test behave as expected.\n",
        "\n",
        "\n",
        "## Function to test"
      ],
      "metadata": {
        "id": "LIfoDVzKX7uK"
      }
    },
    {
      "cell_type": "code",
      "source": [
        "def divide(x, y):\n",
        "    '''Divide first by second number'''\n",
        "    if((type(x) == int or type(x) == float) and (type(y) == int or type(y) == float)):\n",
        "       return x / y\n",
        "    return 'not a number'"
      ],
      "metadata": {
        "id": "YH9gDoOYvKwg"
      },
      "execution_count": 2,
      "outputs": []
    },
    {
      "cell_type": "markdown",
      "source": [
        "## Test Table\n",
        "\n",
        "List you test cases here."
      ],
      "metadata": {
        "id": "JYSZ-53nLF6n"
      }
    },
    {
      "cell_type": "code",
      "source": [
        ""
      ],
      "metadata": {
        "id": "DMTITEmbLE_Z"
      },
      "execution_count": null,
      "outputs": []
    },
    {
      "cell_type": "markdown",
      "source": [
        "# Test Table\n",
        "\n",
        "| Test # | Type    | Data     | Expected | Actual | Pass/Fail |\n",
        "|--------|---------|----------|----------|--------|-----------|\n",
        "|  1     | Valid   |2,1       | 2        |        |           |\n",
        "|  2     | Valid   |10,2       | 5        |        |           |\n",
        "|  3     | Valid   |-2,-1     | 2       |        |           |\n",
        "|  4     | Valid   |10.5,2.5   | 4.2      |        |           |\n",
        "|  5     | Valid   |-10.5,2.5 | -4.2      |        |           |\n",
        "|  6     | Invalid |'10',2     | 'Not a number'|   |           |\n",
        "|  7     | Invalid |'ten','2' | 'Not a number'|   |           |\n",
        "|  8     | Invalid |[2],[1]   | 'Not a number'|   |           |\n",
        "|  9     | Invalid |{2},{1}   | 'Not a number'|   |           |\n",
        "\n",
        "\n",
        "\n"
      ],
      "metadata": {
        "id": "Ouf_I-wOkLW_"
      }
    },
    {
      "cell_type": "code",
      "source": [
        "assert divide(2,1) == 2"
      ],
      "metadata": {
        "id": "zftGL4MyrdVt"
      },
      "execution_count": 5,
      "outputs": []
    },
    {
      "cell_type": "code",
      "source": [
        "assert divide(10,2) == 5"
      ],
      "metadata": {
        "id": "ToExjdj_t9xI"
      },
      "execution_count": 6,
      "outputs": []
    },
    {
      "cell_type": "code",
      "source": [
        "assert divide(-2,-1) == 2"
      ],
      "metadata": {
        "id": "9AgbRPV5uO9-"
      },
      "execution_count": 7,
      "outputs": []
    },
    {
      "cell_type": "code",
      "source": [
        "assert divide(10.5,2.5) == 4.2"
      ],
      "metadata": {
        "id": "gS9zW2rtujKE"
      },
      "execution_count": 8,
      "outputs": []
    },
    {
      "cell_type": "code",
      "source": [
        "assert divide(-10.5,2.5) == -4.2"
      ],
      "metadata": {
        "id": "dO-TpbrCu7vI"
      },
      "execution_count": 9,
      "outputs": []
    },
    {
      "cell_type": "code",
      "source": [
        "assert divide('10',5) == 'not a number'"
      ],
      "metadata": {
        "id": "qHaLUK6DvGjv"
      },
      "execution_count": 11,
      "outputs": []
    },
    {
      "cell_type": "code",
      "source": [
        "assert divide('ten','2') == 'not a number'"
      ],
      "metadata": {
        "id": "rPMVARWlvb1C"
      },
      "execution_count": 12,
      "outputs": []
    },
    {
      "cell_type": "code",
      "source": [
        "assert divide([2],[1]) == 'not a number'"
      ],
      "metadata": {
        "id": "Y-SHI_AiwLF8"
      },
      "execution_count": 13,
      "outputs": []
    },
    {
      "cell_type": "code",
      "source": [
        "assert divide({2},{1}) == 'not a number'"
      ],
      "metadata": {
        "id": "SQiYMz1iwY6A"
      },
      "execution_count": 14,
      "outputs": []
    }
  ]
}