{
  "nbformat": 4,
  "nbformat_minor": 0,
  "metadata": {
    "colab": {
      "name": "Total Price",
      "provenance": [],
      "collapsed_sections": [],
      "authorship_tag": "ABX9TyPxKm/3KhkEPQHXl1aerz80",
      "include_colab_link": true
    },
    "kernelspec": {
      "name": "python3",
      "display_name": "Python 3"
    },
    "language_info": {
      "name": "python"
    }
  },
  "cells": [
    {
      "cell_type": "markdown",
      "metadata": {
        "id": "view-in-github",
        "colab_type": "text"
      },
      "source": [
        "<a href=\"https://colab.research.google.com/github/anotidamalandu/BP_public/blob/main/Total_Price.ipynb\" target=\"_parent\"><img src=\"https://colab.research.google.com/assets/colab-badge.svg\" alt=\"Open In Colab\"/></a>"
      ]
    },
    {
      "cell_type": "code",
      "source": [
        "def calculate_totalprice (originalprice, discount, tax):\n",
        "  discountedprice = originalprice - (originalprice * discount)\n",
        "  taxamount = tax * discountedprice\n",
        "  totalprice = discountedprice + taxamount\n",
        "  print('Total Price')\n",
        "  print('Original Price', originalprice, 'Discount', discount, 'tax', tax)\n",
        "  print('Total Price :', totalprice)\n",
        "calculate_totalprice (originalprice, discount, tax)"
      ],
      "metadata": {
        "colab": {
          "base_uri": "https://localhost:8080/"
        },
        "id": "J7f-N59HHowV",
        "outputId": "891d6604-01d6-421d-846d-89e2eda3b630"
      },
      "execution_count": 7,
      "outputs": [
        {
          "output_type": "stream",
          "name": "stdout",
          "text": [
            "Total Price\n",
            "Original Price 40 Discount 0.3 tax 0.07\n",
            "Total Price : 29.96\n"
          ]
        }
      ]
    }
  ]
}