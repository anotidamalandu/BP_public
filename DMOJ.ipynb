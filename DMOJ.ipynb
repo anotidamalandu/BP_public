{
  "nbformat": 4,
  "nbformat_minor": 0,
  "metadata": {
    "colab": {
      "name": "DMOJ.ipynb",
      "provenance": [],
      "collapsed_sections": [],
      "authorship_tag": "ABX9TyMgWWbudSVAlMbLhJB8go5T",
      "include_colab_link": true
    },
    "kernelspec": {
      "name": "python3",
      "display_name": "Python 3"
    },
    "language_info": {
      "name": "python"
    }
  },
  "cells": [
    {
      "cell_type": "markdown",
      "metadata": {
        "id": "view-in-github",
        "colab_type": "text"
      },
      "source": [
        "<a href=\"https://colab.research.google.com/github/anotidamalandu/BP_public/blob/main/DMOJ.ipynb\" target=\"_parent\"><img src=\"https://colab.research.google.com/assets/colab-badge.svg\" alt=\"Open In Colab\"/></a>"
      ]
    },
    {
      "cell_type": "code",
      "execution_count": 3,
      "metadata": {
        "colab": {
          "base_uri": "https://localhost:8080/"
        },
        "id": "XW-KLPmWZrUz",
        "outputId": "5b83baa0-49e5-48aa-fc2f-46ee9786d331"
      },
      "outputs": [
        {
          "output_type": "stream",
          "name": "stdout",
          "text": [
            " input monthly megab 10\n",
            " input number of month 3\n",
            "Enter value mega used: 10\n",
            "30\n",
            "Enter value mega used: 2\n",
            "28\n",
            "Enter value mega used: 12\n",
            "16\n"
          ]
        }
      ],
      "source": [
        "monthly_megab = int(input(\" input monthly megab \"))\n",
        "months = int(input(\" input number of month \"))\n",
        "\n",
        "total = monthly_megab * (months + 1)\n",
        "\n",
        "for i in range (months):\n",
        "  # used = input amount of megab used\n",
        "  used = int(input(\"Enter value mega used: \"))\n",
        "  # calculate total\n",
        "  total = total - used \n",
        "  # print total\n",
        "  print(total)\n"
      ]
    },
    {
      "cell_type": "code",
      "source": [
        ""
      ],
      "metadata": {
        "id": "HpmwwukocBqQ"
      },
      "execution_count": null,
      "outputs": []
    },
    {
      "cell_type": "code",
      "execution_count": 5,
      "metadata": {
        "colab": {
          "base_uri": "https://localhost:8080/"
        },
        "outputId": "4fab2c3c-4fd2-4110-d899-7ad65bd3c5a7",
        "id": "BkzQeWzPcGVC"
      },
      "outputs": [
        {
          "output_type": "stream",
          "name": "stdout",
          "text": [
            " input monthly megab 10\n",
            " input number of month 3\n",
            "Enter value mega used: 6\n",
            "Enter value mega used: 4\n",
            "Enter value mega used: 2\n",
            "total megab availabe of N+1 28\n"
          ]
        }
      ],
      "source": [
        "monthly_megab = int(input(\" input monthly megab \"))\n",
        "months = int(input(\" input number of month \"))\n",
        "\n",
        "total = monthly_megab * (months + 1)\n",
        "\n",
        "for i in range (months):\n",
        "  # used = input amount of megab used\n",
        "  used = int(input(\"Enter value mega used: \"))\n",
        "  # calculate total\n",
        "  total = total - used \n",
        "  # print total\n",
        "  \n",
        "print(\"total megab availabe of N+1\" , total)\n"
      ]
    }
  ]
}