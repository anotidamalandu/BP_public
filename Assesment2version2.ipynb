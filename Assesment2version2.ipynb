{
  "nbformat": 4,
  "nbformat_minor": 0,
  "metadata": {
    "colab": {
      "name": "Assesment2version2.ipynb",
      "provenance": [],
      "authorship_tag": "ABX9TyOfaRPV1Mdef2ZezwoJKHQB",
      "include_colab_link": true
    },
    "kernelspec": {
      "name": "python3",
      "display_name": "Python 3"
    },
    "language_info": {
      "name": "python"
    }
  },
  "cells": [
    {
      "cell_type": "markdown",
      "metadata": {
        "id": "view-in-github",
        "colab_type": "text"
      },
      "source": [
        "<a href=\"https://colab.research.google.com/github/anotidamalandu/BP_public/blob/main/Assesment2version2.ipynb\" target=\"_parent\"><img src=\"https://colab.research.google.com/assets/colab-badge.svg\" alt=\"Open In Colab\"/></a>"
      ]
    },
    {
      "cell_type": "code",
      "execution_count": null,
      "metadata": {
        "id": "nUzjEzw3otA-"
      },
      "outputs": [],
      "source": [
        ""
      ]
    },
    {
      "cell_type": "code",
      "execution_count": null,
      "metadata": {
        "id": "5chPr8EiDf2g"
      },
      "outputs": [],
      "source": [
        ""
      ]
    },
    {
      "cell_type": "code",
      "execution_count": 1,
      "metadata": {
        "id": "dtBeAX9q88NS"
      },
      "outputs": [],
      "source": [
        "import sqlite3"
      ]
    },
    {
      "cell_type": "code",
      "execution_count": 2,
      "metadata": {
        "id": "lIYdn1woOS1n",
        "colab": {
          "base_uri": "https://localhost:8080/"
        },
        "outputId": "53f5834e-2ad5-4411-f515-6537e4d5ee3d"
      },
      "outputs": [
        {
          "output_type": "stream",
          "name": "stdout",
          "text": [
            "--2022-05-26 23:10:51--  https://curtin-my.sharepoint.com/:u:/g/personal/211934g_curtin_edu_au/EaYagsqa2r1Bi5wtHbswGFwBH2kd2uTnz6rlka7GI36GUQ?download=1\n",
            "Resolving curtin-my.sharepoint.com (curtin-my.sharepoint.com)... 13.107.136.9, 13.107.138.9\n",
            "Connecting to curtin-my.sharepoint.com (curtin-my.sharepoint.com)|13.107.136.9|:443... connected.\n",
            "HTTP request sent, awaiting response... 302 Found\n",
            "Location: /personal/211934g_curtin_edu_au/Documents/ISYS2001-Assignment-2-Data/enron_sqlite3.db?ga=1 [following]\n",
            "--2022-05-26 23:10:53--  https://curtin-my.sharepoint.com/personal/211934g_curtin_edu_au/Documents/ISYS2001-Assignment-2-Data/enron_sqlite3.db?ga=1\n",
            "Reusing existing connection to curtin-my.sharepoint.com:443.\n",
            "HTTP request sent, awaiting response... 200 OK\n",
            "Length: 853819392 (814M) [application/octet-stream]\n",
            "Saving to: ‘enron.db’\n",
            "\n",
            "enron.db            100%[===================>] 814.27M  42.8MB/s    in 21s     \n",
            "\n",
            "2022-05-26 23:11:13 (39.7 MB/s) - ‘enron.db’ saved [853819392/853819392]\n",
            "\n"
          ]
        }
      ],
      "source": [
        "!wget -O enron.db https://curtin-my.sharepoint.com/:u:/g/personal/211934g_curtin_edu_au/EaYagsqa2r1Bi5wtHbswGFwBH2kd2uTnz6rlka7GI36GUQ?download=1"
      ]
    },
    {
      "cell_type": "code",
      "source": [
        "conn = sqlite3.connect(\"enron.db\")"
      ],
      "metadata": {
        "id": "_Z1T04oZE0ML"
      },
      "execution_count": 5,
      "outputs": []
    },
    {
      "cell_type": "code",
      "source": [
        "print(conn.total_changes)"
      ],
      "metadata": {
        "id": "SpxjQ-mlEmHq",
        "colab": {
          "base_uri": "https://localhost:8080/"
        },
        "outputId": "d92aba37-09db-4f39-ec75-590fcc18e925"
      },
      "execution_count": 6,
      "outputs": [
        {
          "output_type": "stream",
          "name": "stdout",
          "text": [
            "0\n"
          ]
        }
      ]
    },
    {
      "cell_type": "code",
      "source": [
        "cur = conn.cursor()"
      ],
      "metadata": {
        "id": "BE-Lqc97Fwb3"
      },
      "execution_count": 7,
      "outputs": []
    },
    {
      "cell_type": "code",
      "source": [
        "sql = \"\"\"\n",
        "CREATE TABLE IF NOT EXISTS users(\n",
        "  eid INT,\n",
        "  firstName TEXT,\n",
        "  lastName TEXT,\n",
        "  Email_id INT PRIMARY KEY,\n",
        "  Email2 TEXT,\n",
        "  Email3 TEXT,\n",
        "  Email4 TEXT,\n",
        "  folder BLOB,\n",
        "  status TEXT);\n",
        "\"\"\"\n",
        "cur.execute(sql)\n",
        "conn.commit()"
      ],
      "metadata": {
        "id": "2puc3HSjG1ZT"
      },
      "execution_count": 8,
      "outputs": []
    },
    {
      "cell_type": "code",
      "source": [
        "rows = cursor.execute(\"SELECT eid, firstName, lastName, Email_id, Email2, Email3,Email4, folder,status FROM employeelist\").fetchall()\n",
        "print(rows)"
      ],
      "metadata": {
        "colab": {
          "base_uri": "https://localhost:8080/"
        },
        "id": "xDub9e33qd9S",
        "outputId": "68069dd3-2116-4d01-c5e6-973729a4b38b"
      },
      "execution_count": 13,
      "outputs": [
        {
          "output_type": "stream",
          "name": "stdout",
          "text": [
            "[(1, 'Robert', 'Badeer', 'robert.badeer@enron.com', 'rbadeer@enron.com', '', '', 'badeer-r', 'Director'), (2, 'Kevin', 'Hyatt', 'kevin.hyatt@enron.com', 'kevin_hyatt@enron.com', 'khyatt@enron.com', '', 'hyatt-k', 'Director'), (3, 'Tracy', 'Geaccone', 'tracy.geaccone@enron.com', 'tracy_geaconne@enron.com', '', '', 'geaccone-t', 'Employee'), (4, 'Teb', 'Lokey', 'teb.lokey@enron.com', 'teb_lokey@enron.com', 'tlokey@enron.com', '', 'lokey-t', 'Manager'), (5, 'Richard', 'Ring', 'richard.ring@enron.com', '', '', '', 'ring-r', 'Employee'), (6, 'Mark', 'Taylor', 'mark.e.taylor@enron.com', 'mark.taylor@enron.com', 'e.taylor@enron.com', '', 'taylor-m', 'Employee'), (7, 'Theresa', 'Staab', 'theresa.staab@enron.com', 'theresa_staab@enron.com', 'tstaab@enron.com', '', 'staab-t', 'Employee'), (8, 'Susan', 'Pereira', 'susan.w.pereira@enron.com', 'w..pereira@enron.com', 'susan.peireira@enron.com', '', 'pereira-s', 'Employee'), (9, 'Stephanie', 'Panus', 'stephanie.panus@enron.com', '', '', '', 'panus-s', 'Employee'), (10, 'Phillip', 'Allen', 'phillip.k.ellen@enron.com', 'phillip.allen@enron.com', 'k..allen@enron.com', '', 'allen-p', 'Manager'), (11, 'Mark', 'Whitt', 'mark.whitt@enron.com', 'mwhitt@enron.com', '', '', 'whitt-m', 'N/A'), (12, 'Paul', 'Lucci', 'paul.lucci@enron.com', 't..lucci@enron.com', 'plucci@enron.com', '', 'lucci-p', 'Employee'), (13, 'Marie', 'Heard', 'marie.heard@enron.com', '', '', '', 'heard-m', None), (14, 'Richard', 'Sanders', 'richard.b.sanders@enron.com', 'b..sanders@enron.com', 'richard.sanders@enron.com', '', 'sanders-r', 'Vice President'), (15, 'Monika', 'Causholli', 'monika.causholli@enron.com', '', '', '', 'causholli-m', 'Employee'), (16, 'Michelle', 'Cash', 'michelle.cash@enron.com', 'mcash@enron.com', 'michelle_cash@enron.com', '', 'cash-m', 'Employee'), (17, 'Mike', 'Grigsby', 'mike.grigsby@enron.com', '', '', '', 'grigsby-m', 'Manager'), (18, 'Lynn', 'Blair', 'lynn.blair@enron.com', 'lynnblair@enron.com', '', '', 'blair-l', 'Director'), (19, 'Lindy', 'Donoho', 'lindy.donoho@enron.com', 'ldonoho@enron.com', '', '', 'donoho-l', 'Employee'), (20, 'Kimberly', 'Watson', 'kimberly.watson@enron.com', '', '', '', 'watson-k', 'N/A'), (21, 'Keith', 'Holst', 'keith.holst@enron.com', 'kholst@enron.com', '', '', 'holst-k', 'Director'), (22, 'Joe', 'Quenet', 'joe.quenet@enron.com', 'jquenet@enron.com', '', '', 'quenet-j', 'Trader'), (23, 'James', 'Steffes', 'james.d.steffes@enron.com', 'd..steffes@enron.com', 'james.steffes@enron.com', '', 'steffes-j', 'Vice President'), (24, 'John', 'Forney', 'm..forney@enron.com', 'john.forney@enron.com', '', '', 'forney-j', 'Manager'), (25, 'Jay', 'Reitmeyer', 'jay.reitmeyer@enron.com', '', '', '', 'reitmeyer-j', 'Employee'), (26, 'Frank', 'Ermis', 'frank.ermis@enron.com', 'fermis@enron.com', '', '', 'ermis-f', 'Director'), (27, 'Elizabeth', 'Sager', 'elizabeth.sager@enron.com', 'esager@enron.com', '', '', 'sager-e', 'Employee'), (28, 'Darrell', 'Schoolcraft', 'darrell.schoolcraft@enron.com', '', '', '', 'schoolcraft-d', 'N/A'), (29, 'Danny', 'McCarty', 'danny.mccarty@enron.com', '', '', '', 'mccarty-d', 'Vice President'), (30, 'Bill', 'Rapp', 'bill.rapp@enron.com', 'brapp@enron.com', '', '', 'rapp-b', 'N/A'), (31, 'Benjamin', 'Rogers', 'benjamin.rogers@enron.com', '', '', '', 'rogers-b', 'Employee'), (32, 'Shelley', 'Corman', 'shelley.corman@enron.com', 'scorman@enron.com', 'shelley_corman@enron.com', '', 'corman-s', 'Vice President'), (33, 'Kim', 'Ward', 'kim.ward@enron.com', 'kward@enron.com', '', '', 'ward-k', 'N/A'), (34, 'Juan', 'Hernandez', 'juan.hernandez@enron.com', '', '', '', 'hernandez-j', 'Employee'), (35, 'Joe', 'Stepenovitch', 'joe.stepenovitch@enron.com', 'joe_stepenovitch@enron.com', '', '', 'stepenovitch-j', 'Vice President'), (36, 'Jeffrey', 'Shankman', 'jeffrey.a.shankman@enron.com', 'a..shankman@enron.com', 'jeffrey.shankman@enron.com', '', 'shankman-j', 'President'), (37, 'Jane', 'Tholt', 'jane.tholt@enron.com', 'jane.m.tholt@enron.com', 'm..tholt@enron.com', '', 'tholt-j', 'Vice President'), (38, 'Barry', 'Tycholiz', 'barry.tycholiz@enron.com', '', '', '', 'tycholiz-b', 'Vice President'), (39, 'Dana', 'Davis', 'dana.davis@enron.com', 'd..davis@enron.com', 'dana_davis@enron.com', '', 'davis-d', 'Vice President'), (40, 'Tori', 'Kuykendall', 'tori.kuykendall@enron.com', '', '', '', 'kuykendall-t', 'Trader'), (41, 'Randall', 'Gay', 'l..gay@enron.com', 'randall.gay@enron.com', 'randall.l.gay@enron.com', '', 'gay-r', 'Employee'), (42, 'Martin', 'Cuilla', 'martin.cuilla@enron.com', 'mcuilla@enron.com', 'martin_cuilla@enron.com', '', 'cuilla-m', 'Manager'), (43, 'Larry', 'Campbell', 'larry.f.campbell@enron.com', 'larry.campbell@enron.com', 'f..campbell@enron.com', '', 'campbell-l', 'Employee'), (44, 'John', 'Arnold', 'john.arnold@enron.com', '', '', '', 'arnold-j', 'Manager'), (45, 'Harry', 'Arora', 'harry.arora@enron.com', 'harora@enron.com', '', '', 'arora-h', 'Vice President'), (46, 'David', 'Delainey', 'david.w.delainey@enron.com', 'david.delainey@enron.com', 'w..delainey@enron.com', '', 'delainey-d', 'CEO'), (47, 'Brad', 'Mckay', 'brad.mckay@enron.com', 'bmckay@enron.com', '', '', 'mckay-b', 'Employee'), (48, 'Tana', 'Jones', 'tana.jones@enron.com', 'tana_jones@enron.com', '', '', 'jones-t', 'N/A'), (49, 'Susan', 'Scott', 'susan.scott@enron.com', 'm..scott@enron.com', 'susan.m.scott@enron.com', '', 'scott-s', 'N/A'), (50, 'Susan', 'Bailey', 'susan.bailey@enron.com', '', '', '', 'bailey-s', 'N/A'), (51, 'Steven', 'Kean', 'steven.j.kean@enron.com', 'steven.kean@enron.com', 'skean@enron.com', 'j..kean@enron.com', 'kean-s', 'Vice President'), (52, 'Kay', 'Mann', 'kay.mann@enron.com', '', '', '', 'mann-k', 'Employee'), (53, 'John', 'Lavorato', 'lavorato@enron.com', 'john.j.lavorato@enron.com', 'j..lavorato@enron.com', '', 'lavorato-j', 'CEO'), (54, 'Greg', 'Whalley', 'greg.whalley@enron.com', 'gwhalley@enron.com', '', '', 'whalley-g', 'President'), (55, 'Paul', 'Barbo', 'paul.y barbo@enron.com', 'barbo@enron.com', 'pybarbo@enron.com', '', 'ybarbo-p', 'Trader'), (56, 'Jason', 'Wolfe', 'jason.wolfe@enron.com', '', '', '', 'wolfe-j', 'N/A'), (57, 'Jason', 'Williams', 'jason.williams@enron.com', 'jason.r.williams@enron.com', '', '', 'williams-j', 'Vice President'), (58, 'Jim', 'Schwieger', 'jim.schwieger@enron.com', '', '', '', 'schwieger-j', 'Trader'), (59, 'Monique', 'Sanchez', 'monique.sanchez@enron.com', '', '', '', 'sanchez-m', 'N/A'), (60, 'Kevin', 'Ruscitti', 'kevin.ruscitti@enron.com', '', '', '', 'ruscitti-k', 'Trader'), (61, 'Matthew', 'Lenhart', 'matthew.lenhart@enron.com', 'mlenhart@enron.com', '', '', 'lenhart-m', 'Employee'), (62, 'Peter', 'Keavey', 'peter.keavey@enron.com', 'f..keavey@enron.com', 'pkeavey@enron.com', 'peter.f.keavey@enron.com', 'keavey-p', 'Employee'), (63, 'Scott', 'Hendrickson', 'scott.hendrickson@enron.com', 'scott . hendrikcson@enron.com', '', '', 'hendrickson-s', 'N/A'), (64, 'Tom', 'Donohoe', 'tom.donohoe@enron.com', '', '', '', 'donohoe-t', 'Employee'), (65, 'Mark', 'Haedicke', 'e..haedicke@enron.com', 'mark.haedicke@enron.com', 'mark.e.haedicke@enron.com', '', 'haedicke-m', 'Managing Director'), (66, 'Stanley', 'Horton', 'stanley.horton@enron.com', 'stanley_horton@enron.com', '', '', 'horton-s', 'President'), (67, 'Sara', 'Shackleton', 'sara.shackleton@enron.com', 'sara_shackleton@enron.com', '', '', 'shackleton-s', 'N/A'), (68, 'Rod', 'Hayslett', 'rod.hayslett@enron.com', 'rod_hayslett@enron.com', '', '', 'hayslett-r', 'Vice President'), (69, 'Richard', 'Shapiro', 'richard.shapiro@enron.com', '', '', '', 'shapiro-r', 'Vice President'), (70, 'Michelle', 'Lokay', 'michelle.lokay@enron.com', 'michele.lokay@enron.com', 'mlokay@enron.com', '', 'lokay-m', 'Employee'), (71, 'Matt', 'Smith', 'matt.smith@enron.com', 'matthew.smith?@enron.com', '', '', 'smith-m', 'N/A'), (72, 'Mark', 'McConnell', 'mark.mcconnell@enron.com', 'mark_mcconnell@enron.com', '', '', 'mcconnell-m', 'N/A'), (73, 'Jeff', 'Dasovich', 'jeff.dasovich@enron.com', 'jeff_dasovich@enron.com', 'jeffdasovich@enron.com', '', 'dasovich-j', 'Employee'), (74, 'James', 'Derrick', 'james.derrick@enron.com', 'james_derrick@enron.com', '', '', 'derrick-j', 'In House Lawyer'), (75, 'Gerald', 'Nemec', 'gerald.nemec@enron.com', 'gnemec@enron.com', '', '', 'nemec-g', 'N/A'), (76, 'Debra', 'Perlingiere', 'debra.perlingiere@enron.com', '', '', '', 'perlingiere-d', 'Employee'), (77, 'John', 'Zufferli', 'john.zufferli@enron.com', '', '', '', 'zufferli-j', 'Vice President'), (78, 'Andy', 'Zipper', 'andy.zipper@enron.com', 'azipper@enron.com', '', '', 'zipper-a', 'Vice President'), (79, 'Stacey', 'White', 'stacey.w.white@enron.com', 'w..white@enron.com', 'stacey.white@enron.com', '', 'white-s', 'N/A'), (80, 'Charles', 'Weldon', 'charles.weldon@enron.com', 'v.charles.weldon@enron.com', 'v.weldon@enron.com', '', 'weldon-c', 'N/A'), (81, 'Judy', 'Townsend', 'judy.townsend@enron.com', '', '', '', 'townsend-j', 'Employee'), (82, 'Paul', 'Thomas', 'paul.d.thomas@enron.com', 'd..thomas@enron.com', 'paul.thomas@enron.com', '', 'thomas-p', 'N/A'), (83, 'Fletcher', 'Sturm', 'fletcher.j.sturm@enron.com', 'j..sturm@enron.com', 'fletcher.sturm@enron.com', '', 'sturm-f', 'Vice President'), (84, 'Geoff', 'Storey', 'geoff.storey@enron.com', 'gstorey@enron.com', '', '', 'storey-g', 'Director'), (85, 'Geir', 'Solberg', 'geir.solberg@enron.com', 'gsolberg@enron.com', '', '', 'solberg-g', 'Employee'), (86, 'Cara', 'Semperger', 'cara.semperger@enron.com', '', '', '', 'semperger-c', 'Employee'), (87, 'Holden', 'Salisbury', 'holden.salisbury@enron.com', '', '', '', 'salisbury-h', 'Employee'), (88, 'Eric', 'Saibi', 'eric.saibi@enron.com', 'esaibi@enron.com', '', '', 'saibi-e', 'Trader'), (89, 'Andrea', 'Ring', 'andrea.ring@enron.com', '', '', '', 'ring-a', 'N/A'), (90, 'Cooper', 'Richey', 'cooper.richey@enron.com', 'crichey@enron.com', '', '', 'richey-c', 'Manager'), (91, 'Dutch', 'Quigley', 'dutch.quigley@enron.com', '', '', '', 'quigley-d', 'Trader'), (92, 'Kevin', 'Presto', 'kevin.m.presto@enron.com', 'm..presto@enron.com', 'kevin.presto@enron.com', '', 'presto-k', 'Vice President'), (93, 'Phillip', 'Platter', 'phillip.platter@enron.com', '', '', '', 'platter-p', 'Employee'), (94, 'Vladi', 'Pimenov', 'vladi.pimenov@enron.com', 'vpimenov@enron.com', '', '', 'pimenov-v', 'N/A'), (95, 'Joe', 'Parks', 'joe.parks@enron.com', '', '', '', 'parks-j', 'N/A'), (96, 'Scott', 'Neal', 'scott.neal@enron.com', '', '', '', 'neal-s', 'Vice President'), (97, 'Matt', 'Motley', 'matt.motley@enron.com', 'mmotley@enron.com', '', '', 'motley-m', 'Director'), (98, 'Patrice', 'Mims', 'patrice.l.mims@enron.com', 'l..mims@enron.com', 'partice.mims@enron.com', '', 'mims-thurston-p', 'N/A'), (99, 'Albert', 'Meyers', 'albert.meyers@enron.com', '', '', '', 'meyers-a', 'Employee'), (100, 'Errol', 'McLaughlin', 'errol.mclaughlin@enron.com', '', '', '', 'mclaughlin-e', 'Employee'), (101, 'Jonathan', 'Mckay', 'jonathan.mckay@enron.com', '', '', '', 'mckay-j', 'Director'), (102, 'Larry', 'May', 'larry.may@enron.com', '', '', '', 'may-l', 'Director'), (103, 'Thomas', 'Martin', 'thomas.a.martin@enron.com', 'thomas.martin@enron.com', 'a..martin@enron.com', '', 'martin-t', 'Vice President'), (104, 'Mike', 'Maggi', 'mike.maggi@enron.com', 'mmaggi@enron.com', '', '', 'maggi-m', 'Director'), (105, 'Phillip', 'Love', 'phillip.m.love@enron.com', 'm..love@enron.com', 'phillip.love@enron.com', '', 'love-p', 'N/A'), (106, 'Andrew', 'Lewis', 'h..lewis@enron.com', 'andrew.lewis@enron.com', 'andrew.h.lewis@enron.com', '', 'lewis-a', 'Director'), (107, 'Louise', 'Kitchen', 'louise.kitchen@enron.com', 'lkitchen@enron.com', '', '', 'kitchen-l', 'President'), (108, 'Jeff', 'King', 'jeff.king@enron.com', '', '', '', 'king-j', 'Manager'), (109, 'Vince', 'Kaminski', 'j.kaminski@enron.com', 'vince.kaminski@enron.com', 'kaminski@enron.com', '', 'kaminski-v', 'Manager'), (110, 'John', 'Hodge', 'john.hodge@enron.com', '', '', '', 'hodge-j', 'Managing Director'), (111, 'John', 'Griffith', 'john.griffith@enron.com', '', '', '', 'griffith-j', 'Manager'), (112, 'Darron', 'Giron', 'c..giron@enron.com', 'darron.giron@enron.com', 'darron.c.giron@enron.com', '', 'giron-d', 'Employee'), (113, 'Doug', 'Gilbert-smith', 'doug.gilbert-smith@enron.com', 'gilbert-smith@enron.com', '', '', 'gilbertsmith-d', 'Employee'), (114, 'Chris', 'Germany', 'chris.germany@enron.com', 'chris_germany@enron.com', 'c.germany@enron.com', '', 'germany-c', 'Employee'), (115, 'Lisa', 'Gang', 'lisa.gang@enron.com', '', '', '', 'gang-l', 'N/A'), (116, 'Mary', 'Fischer', 'mary.fischer@enron.com', '', '', '', 'fischer-m', 'Employee'), (117, 'Daren', 'Farmer', 'daren.j.farmer@enron.com', 'daren.farmer@enron.com', 'j..farmer@enron.com', '', 'farmer-d', 'Manager'), (118, 'Chris', 'Dorland', 'chris.dorland@enron.com', '', '', '', 'dorland-c', 'Manager'), (119, 'Mike', 'Carson', 'mike.carson@enron.com', 'mcarson@enron.com', '', '', 'carson-m', 'Manager'), (120, 'Sandra', 'Brawner', 'sandra.f.brawner@enron.com', 'sandra.brawner@enron.com', 'f..brawner@enron.com', '', 'brawner-s', 'Director'), (121, 'Robert', 'Benson', 'robert.benson@enron.com', 'r.benson@enron.com', 'rbenson@enron.com', '', 'benson-r', 'Director'), (122, 'Sally', 'Beck', 'sally.beck@enron.com', 'sally_beck@enron.com', '', '', 'beck-s', 'Employee'), (123, 'Rick', 'Buy', 'rick.buy@enron.com', '', '', '', 'buy-r', 'Manager'), (124, 'Don', 'Baughman', 'don.baughman@enron.com', 'd..baughman.com', 'don_baughman@enron.com', '', 'baughman-d', 'Trader'), (125, 'Eric', 'Bass', 'eric.bass@enron.com', 'ebass@enron.com', '', '', 'bass-e', 'Trader'), (126, 'Hunter', 'Shively', 'hunter.s.shively@enron.com', 's..shively@enron.com', 'hunter.shively@enron.com', '', 'shively-h', 'Vice President'), (127, 'Kenneth', 'Lay', 'kenneth.lay@enron.com', 'kenneth_lay@enron.com', '', '', 'lay-k', 'CEO'), (128, 'Kam', 'Keiser', 'kam.keiser@enron.com', 'kkeiser@enron.com', '', '', 'keiser-k', 'Employee'), (129, 'Jeffrey', 'Skilling', 'jeff.skilling@enron.com', 'jeffrey.skilling@enron.com', '', '', 'skilling-j', 'CEO'), (130, 'Sean', 'Crandall', 'sean.crandall@enron.com', 'scrandall@enron.com', '', '', 'crandell-s', 'Director'), (131, 'Ryan', 'Slinger', 'ryan.slinger@enron.com', '', '', '', 'slinger-r', 'Trader'), (132, 'Mike', 'Swerzbin', 'mike.swerzbin@enron.com', '', '', '', 'swerzbin-m', 'Trader'), (133, 'Diana', 'Scholtes', 'diana.scholtes@enron.com', '', '', '', 'scholtes-d', 'Trader'), (134, 'Craig', 'Dean', 'craig.dean@enron.com', '', '', '', 'dean-c', 'Trader'), (135, 'Bill', 'Williams', 'bill.williams@enron.com', '', '', '', 'williams-w3', 'N/A'), (136, 'Stacy', 'Dickson', 'stacy.dickson@enron.com', 'e..dickson@enron.com', 'stacy.e.dickson@enron.com', '', 'dickson-s', 'Employee'), (137, 'Drew', 'Fossum', 'drew.fossum@enron.com', 'drew_fossum@enron.com', '', '', 'fossum-d', 'Vice President'), (138, 'Mark', 'Guzman', 'mark.guzman@enron.com', '', '', '', 'guzman-m', 'Managing Director'), (139, 'Mary', 'Hain', 'mary.hain@enron.com', 'mhain@enron.com', 'mary_hain@enron.com', '', 'hain-m', 'N/A'), (141, 'Steven', 'Harris', 'steven.harris@enron.com', '', '', '', 'harris-s', 'Vice President'), (142, 'Dan', 'Hyvl', 'dan.hyvl@enron.com', 'dan.j.hyvl@enron.com', 'dhyvl@enron.com', '', 'hyvl-d', 'Employee'), (143, 'Eric', 'Linder', 'eric.linder@enron.com', 'eric_linder@enron.com', '', '', 'linder-e', 'Employee'), (144, 'Steven', 'Merris', 'steven.merris@enron.com', 'steven.merriss@enron.com', '', '', 'merriss-s', 'N/A'), (145, 'Robin', 'Rodrigue', 'robin.rodrigue@enron.com', '', '', '', 'rodrique-r', 'N/A'), (146, 'Steven', 'South', 'steven.p.south@enron.com', 'steven.south@enron.com', 'p..south@enron.com', '', 'south-s', 'N/A'), (147, 'Carol', 'Clair', 'carol.clair@enron.com', 'carol.st.clair@enron.com', 'carol.stclair@enron.com', '', 'stclair-c', 'Vice President'), (148, 'Chris', 'Stokley', 'chris.stokley@enron.com', '', '', '', 'stokley-c', 'N/A'), (149, 'Kate', 'Symes', 'kate.symes@enron.com', 'ksymes@enron.com', '', '', 'symes-k', 'Employee'), (150, 'Liz', 'Taylor', 'liz.taylor@enron.com', 'liz.m.taylor@enron.com', 'm..taylor@enron.com', '', 'whalley-l', 'N/A')]\n"
          ]
        }
      ]
    },
    {
      "cell_type": "code",
      "source": [
        "sql = \"\"\"\n",
        "CREATE TABLE IF NOT EXISTS users(\n",
        "  mid INT PRIMARY KEY,\n",
        "  sender TEXT,\n",
        "  date INT,\n",
        "  message_id INT,\n",
        "  subject TEXT,\n",
        "  body TEXT);\n",
        "\"\"\"\n",
        "cur.execute(sql)\n",
        "conn.commit()"
      ],
      "metadata": {
        "id": "wiC75FvmZpvi"
      },
      "execution_count": 9,
      "outputs": []
    },
    {
      "cell_type": "code",
      "source": [
        "sql = \"\"\"\n",
        "CREATE TABLE IF NOT EXISTS user(\n",
        "  rid INT PRIMARY KEY, \n",
        "  mid INT,\n",
        "  rtype TEXT);\n",
        "\"\"\"\n",
        "cur.execute(sql)\n",
        "conn.commit()"
      ],
      "metadata": {
        "id": "7vlYvXYit1Xh"
      },
      "execution_count": 10,
      "outputs": []
    },
    {
      "cell_type": "code",
      "source": [
        "sql = \"\"\"\n",
        "CREATE TABLE IF NOT EXISTS user(\n",
        "  rfid INT PRIMARY KEY, \n",
        "  mid INT);\n",
        "\"\"\"\n",
        "cur.execute(sql)\n",
        "conn.commit()"
      ],
      "metadata": {
        "id": "yRqV76C5xyQW"
      },
      "execution_count": 11,
      "outputs": []
    },
    {
      "cell_type": "code",
      "source": [
        "cursor = connection.cursor()\n",
        "cursor.execute(\"CREATE TABLE employeelist (name TEXT, species TEXT, tank_number INTEGER)\")"
      ],
      "metadata": {
        "id": "v5XpEAOGp5rw"
      },
      "execution_count": null,
      "outputs": []
    },
    {
      "cell_type": "code",
      "source": [
        "import pandas as pd\n",
        "\n",
        "sql='''\n",
        "SELECT * from employeelist;\n",
        "'''\n",
        "# Load the data into a DataFrame\n",
        "users_df = pd.read_sql_query(sql,conn)\n",
        "users_df"
      ],
      "metadata": {
        "colab": {
          "base_uri": "https://localhost:8080/",
          "height": 424
        },
        "id": "Smprlneujz6X",
        "outputId": "1fc87b05-640d-48ff-d3fc-25268c2fc6f1"
      },
      "execution_count": 14,
      "outputs": [
        {
          "output_type": "execute_result",
          "data": {
            "text/plain": [
              "     eid firstName  lastName                  Email_id  \\\n",
              "0      1    Robert    Badeer   robert.badeer@enron.com   \n",
              "1      2     Kevin     Hyatt     kevin.hyatt@enron.com   \n",
              "2      3     Tracy  Geaccone  tracy.geaccone@enron.com   \n",
              "3      4       Teb     Lokey       teb.lokey@enron.com   \n",
              "4      5   Richard      Ring    richard.ring@enron.com   \n",
              "..   ...       ...       ...                       ...   \n",
              "144  146    Steven     South  steven.p.south@enron.com   \n",
              "145  147     Carol     Clair     carol.clair@enron.com   \n",
              "146  148     Chris   Stokley   chris.stokley@enron.com   \n",
              "147  149      Kate     Symes      kate.symes@enron.com   \n",
              "148  150       Liz    Taylor      liz.taylor@enron.com   \n",
              "\n",
              "                       Email2                   Email3 EMail4      folder  \\\n",
              "0           rbadeer@enron.com                                    badeer-r   \n",
              "1       kevin_hyatt@enron.com         khyatt@enron.com            hyatt-k   \n",
              "2    tracy_geaconne@enron.com                                  geaccone-t   \n",
              "3         teb_lokey@enron.com         tlokey@enron.com            lokey-t   \n",
              "4                                                                  ring-r   \n",
              "..                        ...                      ...    ...         ...   \n",
              "144    steven.south@enron.com       p..south@enron.com            south-s   \n",
              "145  carol.st.clair@enron.com  carol.stclair@enron.com          stclair-c   \n",
              "146                                                             stokley-c   \n",
              "147          ksymes@enron.com                                     symes-k   \n",
              "148    liz.m.taylor@enron.com      m..taylor@enron.com          whalley-l   \n",
              "\n",
              "             status  \n",
              "0          Director  \n",
              "1          Director  \n",
              "2          Employee  \n",
              "3           Manager  \n",
              "4          Employee  \n",
              "..              ...  \n",
              "144             N/A  \n",
              "145  Vice President  \n",
              "146             N/A  \n",
              "147        Employee  \n",
              "148             N/A  \n",
              "\n",
              "[149 rows x 9 columns]"
            ],
            "text/html": [
              "\n",
              "  <div id=\"df-6460be67-e676-47ee-b005-1c1bbab3edd3\">\n",
              "    <div class=\"colab-df-container\">\n",
              "      <div>\n",
              "<style scoped>\n",
              "    .dataframe tbody tr th:only-of-type {\n",
              "        vertical-align: middle;\n",
              "    }\n",
              "\n",
              "    .dataframe tbody tr th {\n",
              "        vertical-align: top;\n",
              "    }\n",
              "\n",
              "    .dataframe thead th {\n",
              "        text-align: right;\n",
              "    }\n",
              "</style>\n",
              "<table border=\"1\" class=\"dataframe\">\n",
              "  <thead>\n",
              "    <tr style=\"text-align: right;\">\n",
              "      <th></th>\n",
              "      <th>eid</th>\n",
              "      <th>firstName</th>\n",
              "      <th>lastName</th>\n",
              "      <th>Email_id</th>\n",
              "      <th>Email2</th>\n",
              "      <th>Email3</th>\n",
              "      <th>EMail4</th>\n",
              "      <th>folder</th>\n",
              "      <th>status</th>\n",
              "    </tr>\n",
              "  </thead>\n",
              "  <tbody>\n",
              "    <tr>\n",
              "      <th>0</th>\n",
              "      <td>1</td>\n",
              "      <td>Robert</td>\n",
              "      <td>Badeer</td>\n",
              "      <td>robert.badeer@enron.com</td>\n",
              "      <td>rbadeer@enron.com</td>\n",
              "      <td></td>\n",
              "      <td></td>\n",
              "      <td>badeer-r</td>\n",
              "      <td>Director</td>\n",
              "    </tr>\n",
              "    <tr>\n",
              "      <th>1</th>\n",
              "      <td>2</td>\n",
              "      <td>Kevin</td>\n",
              "      <td>Hyatt</td>\n",
              "      <td>kevin.hyatt@enron.com</td>\n",
              "      <td>kevin_hyatt@enron.com</td>\n",
              "      <td>khyatt@enron.com</td>\n",
              "      <td></td>\n",
              "      <td>hyatt-k</td>\n",
              "      <td>Director</td>\n",
              "    </tr>\n",
              "    <tr>\n",
              "      <th>2</th>\n",
              "      <td>3</td>\n",
              "      <td>Tracy</td>\n",
              "      <td>Geaccone</td>\n",
              "      <td>tracy.geaccone@enron.com</td>\n",
              "      <td>tracy_geaconne@enron.com</td>\n",
              "      <td></td>\n",
              "      <td></td>\n",
              "      <td>geaccone-t</td>\n",
              "      <td>Employee</td>\n",
              "    </tr>\n",
              "    <tr>\n",
              "      <th>3</th>\n",
              "      <td>4</td>\n",
              "      <td>Teb</td>\n",
              "      <td>Lokey</td>\n",
              "      <td>teb.lokey@enron.com</td>\n",
              "      <td>teb_lokey@enron.com</td>\n",
              "      <td>tlokey@enron.com</td>\n",
              "      <td></td>\n",
              "      <td>lokey-t</td>\n",
              "      <td>Manager</td>\n",
              "    </tr>\n",
              "    <tr>\n",
              "      <th>4</th>\n",
              "      <td>5</td>\n",
              "      <td>Richard</td>\n",
              "      <td>Ring</td>\n",
              "      <td>richard.ring@enron.com</td>\n",
              "      <td></td>\n",
              "      <td></td>\n",
              "      <td></td>\n",
              "      <td>ring-r</td>\n",
              "      <td>Employee</td>\n",
              "    </tr>\n",
              "    <tr>\n",
              "      <th>...</th>\n",
              "      <td>...</td>\n",
              "      <td>...</td>\n",
              "      <td>...</td>\n",
              "      <td>...</td>\n",
              "      <td>...</td>\n",
              "      <td>...</td>\n",
              "      <td>...</td>\n",
              "      <td>...</td>\n",
              "      <td>...</td>\n",
              "    </tr>\n",
              "    <tr>\n",
              "      <th>144</th>\n",
              "      <td>146</td>\n",
              "      <td>Steven</td>\n",
              "      <td>South</td>\n",
              "      <td>steven.p.south@enron.com</td>\n",
              "      <td>steven.south@enron.com</td>\n",
              "      <td>p..south@enron.com</td>\n",
              "      <td></td>\n",
              "      <td>south-s</td>\n",
              "      <td>N/A</td>\n",
              "    </tr>\n",
              "    <tr>\n",
              "      <th>145</th>\n",
              "      <td>147</td>\n",
              "      <td>Carol</td>\n",
              "      <td>Clair</td>\n",
              "      <td>carol.clair@enron.com</td>\n",
              "      <td>carol.st.clair@enron.com</td>\n",
              "      <td>carol.stclair@enron.com</td>\n",
              "      <td></td>\n",
              "      <td>stclair-c</td>\n",
              "      <td>Vice President</td>\n",
              "    </tr>\n",
              "    <tr>\n",
              "      <th>146</th>\n",
              "      <td>148</td>\n",
              "      <td>Chris</td>\n",
              "      <td>Stokley</td>\n",
              "      <td>chris.stokley@enron.com</td>\n",
              "      <td></td>\n",
              "      <td></td>\n",
              "      <td></td>\n",
              "      <td>stokley-c</td>\n",
              "      <td>N/A</td>\n",
              "    </tr>\n",
              "    <tr>\n",
              "      <th>147</th>\n",
              "      <td>149</td>\n",
              "      <td>Kate</td>\n",
              "      <td>Symes</td>\n",
              "      <td>kate.symes@enron.com</td>\n",
              "      <td>ksymes@enron.com</td>\n",
              "      <td></td>\n",
              "      <td></td>\n",
              "      <td>symes-k</td>\n",
              "      <td>Employee</td>\n",
              "    </tr>\n",
              "    <tr>\n",
              "      <th>148</th>\n",
              "      <td>150</td>\n",
              "      <td>Liz</td>\n",
              "      <td>Taylor</td>\n",
              "      <td>liz.taylor@enron.com</td>\n",
              "      <td>liz.m.taylor@enron.com</td>\n",
              "      <td>m..taylor@enron.com</td>\n",
              "      <td></td>\n",
              "      <td>whalley-l</td>\n",
              "      <td>N/A</td>\n",
              "    </tr>\n",
              "  </tbody>\n",
              "</table>\n",
              "<p>149 rows × 9 columns</p>\n",
              "</div>\n",
              "      <button class=\"colab-df-convert\" onclick=\"convertToInteractive('df-6460be67-e676-47ee-b005-1c1bbab3edd3')\"\n",
              "              title=\"Convert this dataframe to an interactive table.\"\n",
              "              style=\"display:none;\">\n",
              "        \n",
              "  <svg xmlns=\"http://www.w3.org/2000/svg\" height=\"24px\"viewBox=\"0 0 24 24\"\n",
              "       width=\"24px\">\n",
              "    <path d=\"M0 0h24v24H0V0z\" fill=\"none\"/>\n",
              "    <path d=\"M18.56 5.44l.94 2.06.94-2.06 2.06-.94-2.06-.94-.94-2.06-.94 2.06-2.06.94zm-11 1L8.5 8.5l.94-2.06 2.06-.94-2.06-.94L8.5 2.5l-.94 2.06-2.06.94zm10 10l.94 2.06.94-2.06 2.06-.94-2.06-.94-.94-2.06-.94 2.06-2.06.94z\"/><path d=\"M17.41 7.96l-1.37-1.37c-.4-.4-.92-.59-1.43-.59-.52 0-1.04.2-1.43.59L10.3 9.45l-7.72 7.72c-.78.78-.78 2.05 0 2.83L4 21.41c.39.39.9.59 1.41.59.51 0 1.02-.2 1.41-.59l7.78-7.78 2.81-2.81c.8-.78.8-2.07 0-2.86zM5.41 20L4 18.59l7.72-7.72 1.47 1.35L5.41 20z\"/>\n",
              "  </svg>\n",
              "      </button>\n",
              "      \n",
              "  <style>\n",
              "    .colab-df-container {\n",
              "      display:flex;\n",
              "      flex-wrap:wrap;\n",
              "      gap: 12px;\n",
              "    }\n",
              "\n",
              "    .colab-df-convert {\n",
              "      background-color: #E8F0FE;\n",
              "      border: none;\n",
              "      border-radius: 50%;\n",
              "      cursor: pointer;\n",
              "      display: none;\n",
              "      fill: #1967D2;\n",
              "      height: 32px;\n",
              "      padding: 0 0 0 0;\n",
              "      width: 32px;\n",
              "    }\n",
              "\n",
              "    .colab-df-convert:hover {\n",
              "      background-color: #E2EBFA;\n",
              "      box-shadow: 0px 1px 2px rgba(60, 64, 67, 0.3), 0px 1px 3px 1px rgba(60, 64, 67, 0.15);\n",
              "      fill: #174EA6;\n",
              "    }\n",
              "\n",
              "    [theme=dark] .colab-df-convert {\n",
              "      background-color: #3B4455;\n",
              "      fill: #D2E3FC;\n",
              "    }\n",
              "\n",
              "    [theme=dark] .colab-df-convert:hover {\n",
              "      background-color: #434B5C;\n",
              "      box-shadow: 0px 1px 3px 1px rgba(0, 0, 0, 0.15);\n",
              "      filter: drop-shadow(0px 1px 2px rgba(0, 0, 0, 0.3));\n",
              "      fill: #FFFFFF;\n",
              "    }\n",
              "  </style>\n",
              "\n",
              "      <script>\n",
              "        const buttonEl =\n",
              "          document.querySelector('#df-6460be67-e676-47ee-b005-1c1bbab3edd3 button.colab-df-convert');\n",
              "        buttonEl.style.display =\n",
              "          google.colab.kernel.accessAllowed ? 'block' : 'none';\n",
              "\n",
              "        async function convertToInteractive(key) {\n",
              "          const element = document.querySelector('#df-6460be67-e676-47ee-b005-1c1bbab3edd3');\n",
              "          const dataTable =\n",
              "            await google.colab.kernel.invokeFunction('convertToInteractive',\n",
              "                                                     [key], {});\n",
              "          if (!dataTable) return;\n",
              "\n",
              "          const docLinkHtml = 'Like what you see? Visit the ' +\n",
              "            '<a target=\"_blank\" href=https://colab.research.google.com/notebooks/data_table.ipynb>data table notebook</a>'\n",
              "            + ' to learn more about interactive tables.';\n",
              "          element.innerHTML = '';\n",
              "          dataTable['output_type'] = 'display_data';\n",
              "          await google.colab.output.renderOutput(dataTable, element);\n",
              "          const docLink = document.createElement('div');\n",
              "          docLink.innerHTML = docLinkHtml;\n",
              "          element.appendChild(docLink);\n",
              "        }\n",
              "      </script>\n",
              "    </div>\n",
              "  </div>\n",
              "  "
            ]
          },
          "metadata": {},
          "execution_count": 14
        }
      ]
    }
  ]
}